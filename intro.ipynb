{
 "cells": [
  {
   "cell_type": "markdown",
   "metadata": {},
   "source": ["# Intro to Python\nWelcome! Let's learn some basic Python."]
  },
  {
   "cell_type": "code",
   "execution_count": null,
   "metadata": {},
   "outputs": [],
   "source": ["print(\"Hello, world!\")"]
  },
  {
   "cell_type": "code",
   "execution_count": null,
   "metadata": {},
   "outputs": [],
   "source": ["# Task: Print the first 10 square numbers\nfor i in range(1, 11):\n    print(i * i)"]
  }
 ],
 "metadata": {},
 "nbformat": 4,
 "nbformat_minor": 2
}
